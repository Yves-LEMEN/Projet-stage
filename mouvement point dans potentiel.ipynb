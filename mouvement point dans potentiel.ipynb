{
 "cells": [
  {
   "cell_type": "markdown",
   "metadata": {},
   "source": [
    "# Mouvement d'un point dans un potentiel\n",
    "\n",
    "***\n",
    "\n",
    "Un mobile de masse $m$ glisse le long d'un ﬁl dont l’équation est $y=f(x)$. \n",
    "Il n’est soumis qu’à la pesanteur. \n",
    "\n",
    "Le potentiel dû à la gravité est donc $mg[f(x)-f(x_0)]$\n",
    "\n",
    "On définit l'origine en sorte que $f(x_0)=0$ et on suppose que la fonction $f$ présente un minimum en $x_0$. On peut alors développer la fonction $f$ en série au voisinage de zéro, pour définir le potentiel:\n",
    "\n",
    "$$\n",
    "\\mathrm{V}(x) = \\frac{mg}{2}\\ddot{f}(0)x^2 + \\mathrm{O}(x^3)\\\\\n",
    " = \\frac{1}{2}m\\omega^2x^2,\n",
    "$$\n",
    "\n",
    "En posant $\\omega = \\sqrt{\\frac{g}{m}\\ddot{f}(0)}$\n",
    "\n",
    "\n",
    "Le Lagrangien s'écrit :\n",
    "$$\n",
    "\\mathrm{L}(x, \\dot{x}) = \\frac{1}{2}m \\dot{x}^2-\\frac{1}{2}m \\omega^2 s^2\n",
    "$$\n",
    "Et on aura pour l'équation de Lagrange  $$\\frac{d}{dt}[\\frac{\\partial\\mathrm{L}}{\\partial\\dot{x}}]=\\frac{\\partial\\mathrm{L}}{\\partial{x}}\\implies \\boxed{ \\ddot{x}= -\\omega^2 x}\n",
    "$$\n",
    "\n",
    "\n",
    "Equation dont la solution est de la forme $A sin(\\omega t + \\phi)$ mais que l'on peut résoudre numériquement.\n",
    "\n",
    "\n"
   ]
  },
  {
   "cell_type": "markdown",
   "metadata": {},
   "source": [
    "En utilisant le Hamiltonien plutôt que le Lagrangien, on a :\n",
    "$$\n",
    "\\mathrm{H}(x) = \\frac{mv^2}{2} + \\mathrm{V}(x)=\\frac{m}{2}[v^2+\\omega^2 x^2]\n",
    "$$\n",
    "\n",
    "Dans le cas où il n'y a pas de perte d'énergie (Hamiltonien indépendant du temps), on aura :\n",
    "\n",
    "$$\n",
    "\\mathrm{H}=\\mathrm{E} \\\\\n",
    "\\frac{v^2}{v_0^2} + \\frac{x^2}{x_0^2}=1\n",
    "$$\n",
    "Que l'on peut noter aussi:\n",
    "$$\n",
    "\\frac{p_x^2}{p_0^2} + \\frac{x^2}{x_0^2}=1\\\\\n",
    "p_0 = \\sqrt{2mE}   \\quad  ~~\;   s_0=\\sqrt{\\frac{2E}{m\\omega ^2}}\n",
    "$$\n"
   ]
  },
  {
   "cell_type": "code",
   "execution_count": null,
   "metadata": {},
   "outputs": [],
   "source": []
  }
 ],
 "metadata": {
  "kernelspec": {
   "display_name": "Python 3",
   "language": "python",
   "name": "python3"
  },
  "language_info": {
   "codemirror_mode": {
    "name": "ipython",
    "version": 3
   },
   "file_extension": ".py",
   "mimetype": "text/x-python",
   "name": "python",
   "nbconvert_exporter": "python",
   "pygments_lexer": "ipython3",
   "version": "3.7.4"
  }
 },
 "nbformat": 4,
 "nbformat_minor": 2
}
